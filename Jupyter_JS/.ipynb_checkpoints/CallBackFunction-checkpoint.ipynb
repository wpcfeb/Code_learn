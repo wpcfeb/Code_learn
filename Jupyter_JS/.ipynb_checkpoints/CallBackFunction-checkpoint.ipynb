{
 "cells": [
  {
   "cell_type": "code",
   "execution_count": 2,
   "metadata": {},
   "outputs": [
    {
     "data": {
      "application/javascript": [
       "let x = function(){\n",
       "    console.log(\"I am called from inside a function\")\n",
       "};\n",
       "\n",
       "let y = function(callback){\n",
       "    console.log(\"do something\");\n",
       "    callback();\n",
       "}\n",
       "y(x)\n"
      ],
      "text/plain": [
       "<IPython.core.display.Javascript object>"
      ]
     },
     "metadata": {},
     "output_type": "display_data"
    }
   ],
   "source": [
    "%%js\n",
    "let x = function(){\n",
    "    console.log(\"I am called from inside a function\")\n",
    "};\n",
    "\n",
    "let y = function(callback){\n",
    "    console.log(\"do something\");\n",
    "    callback();\n",
    "}\n",
    "y(x)"
   ]
  },
  {
   "cell_type": "code",
   "execution_count": 12,
   "metadata": {},
   "outputs": [
    {
     "data": {
      "application/javascript": [
       "let add = function(a, b){\n",
       "    return a + b;\n",
       "};\n",
       "\n",
       "let multiply = function(a, b){\n",
       "    return a * b;\n",
       "};\n",
       "\n",
       "let doWhatever = function(a, b){\n",
       "  console.log(`here are your two numbers back ${a}, ${b}`);  \n",
       "};\n",
       "let calc = function(num1, num2, callback){\n",
       "    return callback(num1, num2);\n",
       "}\n",
       "\n",
       "calc(2, 3, doWhatever);\n"
      ],
      "text/plain": [
       "<IPython.core.display.Javascript object>"
      ]
     },
     "metadata": {},
     "output_type": "display_data"
    }
   ],
   "source": [
    "%%js\n",
    "let add = function(a, b){\n",
    "    return a + b;\n",
    "};\n",
    "\n",
    "let multiply = function(a, b){\n",
    "    return a * b;\n",
    "};\n",
    "\n",
    "let doWhatever = function(a, b){\n",
    "  console.log(`here are your two numbers back ${a}, ${b}`);  \n",
    "};\n",
    "\n",
    "let calc = function(num1, num2, callback){\n",
    "    return callback(num1, num2);\n",
    "}\n",
    "\n",
    "calc(2, 3, doWhatever);\n"
   ]
  },
  {
   "cell_type": "code",
   "execution_count": 18,
   "metadata": {},
   "outputs": [
    {
     "data": {
      "application/javascript": [
       "let add = function(a, b){\n",
       "    return a + b;\n",
       "};\n",
       "\n",
       "let multiply = function(a, b){\n",
       "    return a * b;\n",
       "};\n",
       "\n",
       "let doWhatever = function(a, b){\n",
       "  console.log(`here are your two numbers back ${a}, ${b}`);  \n",
       "};\n",
       "\n",
       "let calc = function(num1, num2, callback){\n",
       "    if (typeof callback === \"function\") {\n",
       "        return callback(num1, num2);\n",
       "    };\n",
       "};\n",
       "\n",
       "console.log(calc(2, 3, function(a, b){return a-b;}));\n"
      ],
      "text/plain": [
       "<IPython.core.display.Javascript object>"
      ]
     },
     "metadata": {},
     "output_type": "display_data"
    }
   ],
   "source": [
    "%%js\n",
    "let add = function(a, b){\n",
    "    return a + b;\n",
    "};\n",
    "\n",
    "let multiply = function(a, b){\n",
    "    return a * b;\n",
    "};\n",
    "\n",
    "let doWhatever = function(a, b){\n",
    "  console.log(`here are your two numbers back ${a}, ${b}`);  \n",
    "};\n",
    "\n",
    "let calc = function(num1, num2, callback){\n",
    "    if (typeof callback === \"function\") {\n",
    "        return callback(num1, num2);\n",
    "    };\n",
    "};\n",
    "\n",
    "console.log(calc(2, 3, function(a, b){return a-b;}));"
   ]
  },
  {
   "cell_type": "code",
   "execution_count": 22,
   "metadata": {},
   "outputs": [
    {
     "data": {
      "application/javascript": [
       "\n",
       "var myArr=[\n",
       "    {num: 5, str: 'apple'}, \n",
       "    {num: 7, str: 'cabbage'},\n",
       "    {num: 9, str: 'ban'}\n",
       "];\n",
       "\n",
       "myArr.sort(function(val1, val2) {\n",
       "    if (val1.str < val2.str) {\n",
       "        return -1;\n",
       "    } else {\n",
       "        return 1;\n",
       "    }\n",
       "});\n",
       "\n",
       "console.log(myArr);\n"
      ],
      "text/plain": [
       "<IPython.core.display.Javascript object>"
      ]
     },
     "metadata": {},
     "output_type": "display_data"
    }
   ],
   "source": [
    "%%js\n",
    "\n",
    "var myArr=[\n",
    "    {num: 5, str: 'apple'}, \n",
    "    {num: 7, str: 'cabbage'},\n",
    "    {num: 9, str: 'ban'}\n",
    "];\n",
    "\n",
    "myArr.sort(function(val1, val2) {\n",
    "    if (val1.str < val2.str) {\n",
    "        return -1;\n",
    "    } else {\n",
    "        return 1;\n",
    "    }\n",
    "});\n",
    "\n",
    "console.log(myArr);"
   ]
  },
  {
   "cell_type": "code",
   "execution_count": null,
   "metadata": {},
   "outputs": [],
   "source": []
  }
 ],
 "metadata": {
  "kernelspec": {
   "display_name": "Python 3",
   "language": "python",
   "name": "python3"
  },
  "language_info": {
   "codemirror_mode": {
    "name": "ipython",
    "version": 3
   },
   "file_extension": ".py",
   "mimetype": "text/x-python",
   "name": "python",
   "nbconvert_exporter": "python",
   "pygments_lexer": "ipython3",
   "version": "3.8.5"
  }
 },
 "nbformat": 4,
 "nbformat_minor": 4
}
